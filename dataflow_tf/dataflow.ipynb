{
 "cells": [
  {
   "cell_type": "code",
   "execution_count": null,
   "id": "583100a8",
   "metadata": {},
   "outputs": [],
   "source": [
    "from pathlib import Path\n",
    "import os\n",
    "import json \n",
    "import pandas as pd\n",
    "import numpy as np\n",
    "import datetime\n",
    "\n",
    "from IPython.core.interactiveshell import InteractiveShell\n",
    "InteractiveShell.ast_node_interactivity = \"all\" "
   ]
  },
  {
   "cell_type": "code",
   "execution_count": null,
   "id": "a848c7c6",
   "metadata": {},
   "outputs": [],
   "source": [
    "# setup gcp using terraform\n",
    "# !terraform init"
   ]
  },
  {
   "cell_type": "code",
   "execution_count": 60,
   "id": "f566408a",
   "metadata": {},
   "outputs": [
    {
     "data": {
      "text/html": [
       "<img src=\"https://mermaid.ink/img/Z3JhcGggTFIgICAgCiAgICAgIGEoKHBhbmRhcykpLS0+CiAgICAgIGJAeyBzaGFwZTogZG9jLCBsYWJlbDogInJhbmRvbS5jc3YiIH0tLURhdGFGbG93LS0+CiAgICAgIGNbKEJpZ1F1ZXJ5KV0tLT4KICAgICAgZFtmYTpmYS11c2VyIHRoaXMgbm90ZWJvb2tdCiAg\"/>"
      ],
      "text/plain": [
       "<IPython.core.display.Image object>"
      ]
     },
     "metadata": {},
     "output_type": "display_data"
    }
   ],
   "source": [
    "from mermaid import display_graph\n",
    "display_graph()"
   ]
  },
  {
   "cell_type": "code",
   "execution_count": null,
   "id": "9a6b839e",
   "metadata": {},
   "outputs": [],
   "source": [
    "# generate random.csv\n",
    "num_records = 1000\n",
    "dim_values =['a','b','c','d']\n",
    "columns = ['amt','msr']\n",
    "\n",
    "assert num_records % len(dim_values) == 0\n",
    "\n",
    "(\n",
    "    pd.DataFrame(np.random.randint(0,100,size=(num_records, len(columns))),columns=columns)\n",
    "    .assign(dim=int(num_records/len(dim_values)) * dim_values)\n",
    "    .head()\n",
    "    # .assign(asof=datetime.datetime.now())\n",
    "    [['dim','amt','msr']]\n",
    "    .to_csv('random.csv',index=False)\n",
    ")\n"
   ]
  },
  {
   "cell_type": "code",
   "execution_count": 51,
   "id": "945bfc1a",
   "metadata": {},
   "outputs": [],
   "source": [
    "# save schema of random\n",
    "data={'BigQuery Schema':[\n",
    "    {\"name\": \"dim\",\"type\": \"STRING\",\"mode\": \"NULLABLE\"},\n",
    "    {\"name\": \"amt\",\"type\": \"INTEGER\",\"mode\": \"NULLABLE\"},\n",
    "    {\"name\": \"msr\",\"type\": \"INTEGER\",\"mode\": \"NULLABLE\"}\n",
    "]}\n",
    "with open('schema.json', 'w') as f:\n",
    "    json.dump(data, f)"
   ]
  },
  {
   "cell_type": "code",
   "execution_count": null,
   "id": "a3e95214",
   "metadata": {},
   "outputs": [],
   "source": [
    "# create network, buckets, big query dataset\n",
    "# dataflow_job in main.tf commented out.  \n",
    "!terraform apply -auto-approve"
   ]
  },
  {
   "cell_type": "code",
   "execution_count": 53,
   "id": "4cba0c79",
   "metadata": {},
   "outputs": [
    {
     "name": "stderr",
     "output_type": "stream",
     "text": [
      "Copying file://random.csv to gs://hca-hvu7470-202504041334-sbx-io/random.csv\n",
      "Copying file://schema.json to gs://hca-hvu7470-202504041334-sbx-io/schema.json\n",
      "  \n",
      "......................\n",
      "\n",
      "Average throughput: 7.6kiB/s\n"
     ]
    }
   ],
   "source": [
    "!gcloud storage cp random.csv schema.json gs://hca-hvu7470-202504041334-sbx-io"
   ]
  },
  {
   "cell_type": "code",
   "execution_count": null,
   "id": "f88ecefa",
   "metadata": {},
   "outputs": [
    {
     "data": {
      "text/html": [
       "<div>\n",
       "<style scoped>\n",
       "    .dataframe tbody tr th:only-of-type {\n",
       "        vertical-align: middle;\n",
       "    }\n",
       "\n",
       "    .dataframe tbody tr th {\n",
       "        vertical-align: top;\n",
       "    }\n",
       "\n",
       "    .dataframe thead th {\n",
       "        text-align: right;\n",
       "    }\n",
       "</style>\n",
       "<table border=\"1\" class=\"dataframe\">\n",
       "  <thead>\n",
       "    <tr style=\"text-align: right;\">\n",
       "      <th></th>\n",
       "      <th>dim</th>\n",
       "      <th>amt</th>\n",
       "      <th>msr</th>\n",
       "    </tr>\n",
       "  </thead>\n",
       "  <tbody>\n",
       "  </tbody>\n",
       "</table>\n",
       "</div>"
      ],
      "text/plain": [
       "Empty DataFrame\n",
       "Columns: [dim, amt, msr]\n",
       "Index: []"
      ]
     },
     "execution_count": 54,
     "metadata": {},
     "output_type": "execute_result"
    },
    {
     "data": {
      "text/html": [
       "<div>\n",
       "<style scoped>\n",
       "    .dataframe tbody tr th:only-of-type {\n",
       "        vertical-align: middle;\n",
       "    }\n",
       "\n",
       "    .dataframe tbody tr th {\n",
       "        vertical-align: top;\n",
       "    }\n",
       "\n",
       "    .dataframe thead th {\n",
       "        text-align: right;\n",
       "    }\n",
       "</style>\n",
       "<table border=\"1\" class=\"dataframe\">\n",
       "  <thead>\n",
       "    <tr style=\"text-align: right;\">\n",
       "      <th></th>\n",
       "      <th>RawContent</th>\n",
       "      <th>ErrorMsg</th>\n",
       "    </tr>\n",
       "  </thead>\n",
       "  <tbody>\n",
       "  </tbody>\n",
       "</table>\n",
       "</div>"
      ],
      "text/plain": [
       "Empty DataFrame\n",
       "Columns: [RawContent, ErrorMsg]\n",
       "Index: []"
      ]
     },
     "execution_count": 54,
     "metadata": {},
     "output_type": "execute_result"
    }
   ],
   "source": [
    "file = Path(os.environ['APPDATA']) / r\"gcloud\\application_default_credentials.json\"\n",
    "with open(file) as f:\n",
    "    PROJECT=json.load(f)['quota_project_id']\n",
    "\n",
    "\n",
    "from google.cloud import bigquery\n",
    "\n",
    "def qry(sql):    \n",
    "    return bigquery.Client(PROJECT).query(sql).to_dataframe()\n",
    "\n",
    "qry('''select * from hca-hvu7470-202504041334-sbx.dataflow.random''')\n",
    "qry('''select * from hca-hvu7470-202504041334-sbx.dataflow.random_err''')"
   ]
  },
  {
   "cell_type": "code",
   "execution_count": null,
   "id": "4d38e459",
   "metadata": {},
   "outputs": [],
   "source": [
    "# dataflow_job in main.tf included  \n",
    "!terraform apply -auto-approve\n",
    "\n",
    "# todo - how to \n",
    "# https://cloud.google.com/sdk/gcloud/reference/dataflow/jobs/run\n",
    "# https://cloud.google.com/sdk/gcloud/reference/dataflow/yaml/run\n",
    "\n",
    "# templates \n",
    "# https://console.cloud.google.com/storage/browser/_details/dataflow-templates/latest/GCS_CSV_to_BigQuery"
   ]
  },
  {
   "cell_type": "code",
   "execution_count": 62,
   "id": "e267f2b0",
   "metadata": {},
   "outputs": [
    {
     "data": {
      "text/html": [
       "<div>\n",
       "<style scoped>\n",
       "    .dataframe tbody tr th:only-of-type {\n",
       "        vertical-align: middle;\n",
       "    }\n",
       "\n",
       "    .dataframe tbody tr th {\n",
       "        vertical-align: top;\n",
       "    }\n",
       "\n",
       "    .dataframe thead th {\n",
       "        text-align: right;\n",
       "    }\n",
       "</style>\n",
       "<table border=\"1\" class=\"dataframe\">\n",
       "  <thead>\n",
       "    <tr style=\"text-align: right;\">\n",
       "      <th></th>\n",
       "      <th>f0_</th>\n",
       "    </tr>\n",
       "  </thead>\n",
       "  <tbody>\n",
       "    <tr>\n",
       "      <th>0</th>\n",
       "      <td>10</td>\n",
       "    </tr>\n",
       "  </tbody>\n",
       "</table>\n",
       "</div>"
      ],
      "text/plain": [
       "   f0_\n",
       "0   10"
      ]
     },
     "execution_count": 62,
     "metadata": {},
     "output_type": "execute_result"
    },
    {
     "data": {
      "text/html": [
       "<div>\n",
       "<style scoped>\n",
       "    .dataframe tbody tr th:only-of-type {\n",
       "        vertical-align: middle;\n",
       "    }\n",
       "\n",
       "    .dataframe tbody tr th {\n",
       "        vertical-align: top;\n",
       "    }\n",
       "\n",
       "    .dataframe thead th {\n",
       "        text-align: right;\n",
       "    }\n",
       "</style>\n",
       "<table border=\"1\" class=\"dataframe\">\n",
       "  <thead>\n",
       "    <tr style=\"text-align: right;\">\n",
       "      <th></th>\n",
       "      <th>dim</th>\n",
       "      <th>amt</th>\n",
       "      <th>msr</th>\n",
       "    </tr>\n",
       "  </thead>\n",
       "  <tbody>\n",
       "    <tr>\n",
       "      <th>0</th>\n",
       "      <td>a</td>\n",
       "      <td>77</td>\n",
       "      <td>1</td>\n",
       "    </tr>\n",
       "    <tr>\n",
       "      <th>1</th>\n",
       "      <td>a</td>\n",
       "      <td>31</td>\n",
       "      <td>4</td>\n",
       "    </tr>\n",
       "    <tr>\n",
       "      <th>2</th>\n",
       "      <td>b</td>\n",
       "      <td>39</td>\n",
       "      <td>55</td>\n",
       "    </tr>\n",
       "    <tr>\n",
       "      <th>3</th>\n",
       "      <td>c</td>\n",
       "      <td>33</td>\n",
       "      <td>8</td>\n",
       "    </tr>\n",
       "    <tr>\n",
       "      <th>4</th>\n",
       "      <td>d</td>\n",
       "      <td>29</td>\n",
       "      <td>65</td>\n",
       "    </tr>\n",
       "    <tr>\n",
       "      <th>5</th>\n",
       "      <td>a</td>\n",
       "      <td>77</td>\n",
       "      <td>1</td>\n",
       "    </tr>\n",
       "    <tr>\n",
       "      <th>6</th>\n",
       "      <td>a</td>\n",
       "      <td>31</td>\n",
       "      <td>4</td>\n",
       "    </tr>\n",
       "    <tr>\n",
       "      <th>7</th>\n",
       "      <td>b</td>\n",
       "      <td>39</td>\n",
       "      <td>55</td>\n",
       "    </tr>\n",
       "    <tr>\n",
       "      <th>8</th>\n",
       "      <td>c</td>\n",
       "      <td>33</td>\n",
       "      <td>8</td>\n",
       "    </tr>\n",
       "    <tr>\n",
       "      <th>9</th>\n",
       "      <td>d</td>\n",
       "      <td>29</td>\n",
       "      <td>65</td>\n",
       "    </tr>\n",
       "  </tbody>\n",
       "</table>\n",
       "</div>"
      ],
      "text/plain": [
       "  dim  amt  msr\n",
       "0   a   77    1\n",
       "1   a   31    4\n",
       "2   b   39   55\n",
       "3   c   33    8\n",
       "4   d   29   65\n",
       "5   a   77    1\n",
       "6   a   31    4\n",
       "7   b   39   55\n",
       "8   c   33    8\n",
       "9   d   29   65"
      ]
     },
     "execution_count": 62,
     "metadata": {},
     "output_type": "execute_result"
    },
    {
     "data": {
      "text/html": [
       "<div>\n",
       "<style scoped>\n",
       "    .dataframe tbody tr th:only-of-type {\n",
       "        vertical-align: middle;\n",
       "    }\n",
       "\n",
       "    .dataframe tbody tr th {\n",
       "        vertical-align: top;\n",
       "    }\n",
       "\n",
       "    .dataframe thead th {\n",
       "        text-align: right;\n",
       "    }\n",
       "</style>\n",
       "<table border=\"1\" class=\"dataframe\">\n",
       "  <thead>\n",
       "    <tr style=\"text-align: right;\">\n",
       "      <th></th>\n",
       "      <th>RawContent</th>\n",
       "      <th>ErrorMsg</th>\n",
       "    </tr>\n",
       "  </thead>\n",
       "  <tbody>\n",
       "  </tbody>\n",
       "</table>\n",
       "</div>"
      ],
      "text/plain": [
       "Empty DataFrame\n",
       "Columns: [RawContent, ErrorMsg]\n",
       "Index: []"
      ]
     },
     "execution_count": 62,
     "metadata": {},
     "output_type": "execute_result"
    }
   ],
   "source": [
    "qry('''select count(*) from hca-hvu7470-202504041334-sbx.dataflow.random''')\n",
    "qry('''select * from hca-hvu7470-202504041334-sbx.dataflow.random''')\n",
    "qry('''select * from hca-hvu7470-202504041334-sbx.dataflow.random_err''')"
   ]
  }
 ],
 "metadata": {
  "kernelspec": {
   "display_name": "Python 3",
   "language": "python",
   "name": "python3"
  },
  "language_info": {
   "codemirror_mode": {
    "name": "ipython",
    "version": 3
   },
   "file_extension": ".py",
   "mimetype": "text/x-python",
   "name": "python",
   "nbconvert_exporter": "python",
   "pygments_lexer": "ipython3",
   "version": "3.10.10"
  }
 },
 "nbformat": 4,
 "nbformat_minor": 5
}
