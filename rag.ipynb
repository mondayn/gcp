{
 "cells": [
  {
   "cell_type": "markdown",
   "metadata": {},
   "source": [
    "Upload some fake calendar data to Googles Dialogflow CX and ask it some questions"
   ]
  },
  {
   "cell_type": "code",
   "execution_count": 2,
   "metadata": {},
   "outputs": [],
   "source": [
    "import gcp_fx"
   ]
  },
  {
   "cell_type": "code",
   "execution_count": 3,
   "metadata": {},
   "outputs": [
    {
     "name": "stdout",
     "output_type": "stream",
     "text": [
      "downloading caltxt\n"
     ]
    },
    {
     "data": {
      "text/html": [
       "<div>\n",
       "<style scoped>\n",
       "    .dataframe tbody tr th:only-of-type {\n",
       "        vertical-align: middle;\n",
       "    }\n",
       "\n",
       "    .dataframe tbody tr th {\n",
       "        vertical-align: top;\n",
       "    }\n",
       "\n",
       "    .dataframe thead th {\n",
       "        text-align: right;\n",
       "    }\n",
       "</style>\n",
       "<table border=\"1\" class=\"dataframe\">\n",
       "  <thead>\n",
       "    <tr style=\"text-align: right;\">\n",
       "      <th></th>\n",
       "      <th>date_id</th>\n",
       "      <th>note</th>\n",
       "    </tr>\n",
       "  </thead>\n",
       "  <tbody>\n",
       "    <tr>\n",
       "      <th>15</th>\n",
       "      <td>1/16/2025</td>\n",
       "      <td>wife bday</td>\n",
       "    </tr>\n",
       "    <tr>\n",
       "      <th>28</th>\n",
       "      <td>1/29/2025</td>\n",
       "      <td>son birthday</td>\n",
       "    </tr>\n",
       "    <tr>\n",
       "      <th>42</th>\n",
       "      <td>2/12/2025</td>\n",
       "      <td>anniversary</td>\n",
       "    </tr>\n",
       "    <tr>\n",
       "      <th>55</th>\n",
       "      <td>2/25/2025</td>\n",
       "      <td>hunting</td>\n",
       "    </tr>\n",
       "    <tr>\n",
       "      <th>56</th>\n",
       "      <td>2/26/2025</td>\n",
       "      <td>hunting</td>\n",
       "    </tr>\n",
       "    <tr>\n",
       "      <th>57</th>\n",
       "      <td>2/27/2025</td>\n",
       "      <td>hunting</td>\n",
       "    </tr>\n",
       "    <tr>\n",
       "      <th>58</th>\n",
       "      <td>2/28/2025</td>\n",
       "      <td>hunting</td>\n",
       "    </tr>\n",
       "    <tr>\n",
       "      <th>72</th>\n",
       "      <td>3/14/2025</td>\n",
       "      <td>fishing</td>\n",
       "    </tr>\n",
       "    <tr>\n",
       "      <th>73</th>\n",
       "      <td>3/15/2025</td>\n",
       "      <td>fishing</td>\n",
       "    </tr>\n",
       "    <tr>\n",
       "      <th>74</th>\n",
       "      <td>3/16/2025</td>\n",
       "      <td>fishing</td>\n",
       "    </tr>\n",
       "    <tr>\n",
       "      <th>75</th>\n",
       "      <td>3/17/2025</td>\n",
       "      <td>fishing</td>\n",
       "    </tr>\n",
       "    <tr>\n",
       "      <th>95</th>\n",
       "      <td>4/6/2025</td>\n",
       "      <td>take dog to park</td>\n",
       "    </tr>\n",
       "  </tbody>\n",
       "</table>\n",
       "</div>"
      ],
      "text/plain": [
       "      date_id              note\n",
       "15  1/16/2025         wife bday\n",
       "28  1/29/2025      son birthday\n",
       "42  2/12/2025       anniversary\n",
       "55  2/25/2025           hunting\n",
       "56  2/26/2025           hunting\n",
       "57  2/27/2025           hunting\n",
       "58  2/28/2025           hunting\n",
       "72  3/14/2025           fishing\n",
       "73  3/15/2025           fishing\n",
       "74  3/16/2025           fishing\n",
       "75  3/17/2025           fishing\n",
       "95   4/6/2025  take dog to park"
      ]
     },
     "execution_count": 3,
     "metadata": {},
     "output_type": "execute_result"
    }
   ],
   "source": [
    "# uploaded this csv to gcs\n",
    "gcp_fx.get_calendar().query(''' note==note ''')"
   ]
  },
  {
   "cell_type": "code",
   "execution_count": null,
   "metadata": {},
   "outputs": [],
   "source": [
    "# then Agent Builder -> Create App -> Chat\n",
    "# then attached a datastore, and import gcs document above to datastore    \n",
    "from google.cloud import dialogflowcx_v3\n",
    "\n",
    "def get_client_session():\n",
    "\n",
    "    LOCATION = \"us-central1\"  \n",
    "    api_endpoint = f\"{LOCATION}-dialogflow.googleapis.com:443\"\n",
    "    client_options = {\"api_endpoint\": api_endpoint}\n",
    "    client = dialogflowcx_v3.SessionsClient(client_options=client_options)\n",
    "\n",
    "    AGENT_ID = \"5e89b144-8110-454e-8c91-78ac825fddf9\"  #\n",
    "    # import uuid\n",
    "    # SESSION_ID = str(uuid.uuid4())\n",
    "    SESSION_ID = '99c15dbe-388e-4408-ae00-a31bce1b56f4'\n",
    "    sessions_path = f\"projects/{gcp_fx.PROJECT_ID}/locations/{LOCATION}/agents/{AGENT_ID}/sessions/{SESSION_ID}\"\n",
    "    return client, sessions_path\n",
    "\n",
    "def submit_question(question):\n",
    "    query_input = dialogflowcx_v3.QueryInput()\n",
    "    query_input.text.text = question\n",
    "    query_input.language_code = \"en-us\"\n",
    "\n",
    "    client,sessions_path = get_client_session()\n",
    "    request = dialogflowcx_v3.DetectIntentRequest(session=sessions_path,query_input=query_input)\n",
    "    response = client.detect_intent(request=request)\n",
    "    return response.query_result.response_messages[0].text"
   ]
  },
  {
   "cell_type": "code",
   "execution_count": 7,
   "metadata": {},
   "outputs": [
    {
     "data": {
      "text/plain": [
       "text: \"Hi! How are you doing?\""
      ]
     },
     "execution_count": 7,
     "metadata": {},
     "output_type": "execute_result"
    }
   ],
   "source": [
    "submit_question('hi ya')"
   ]
  },
  {
   "cell_type": "code",
   "execution_count": 7,
   "metadata": {},
   "outputs": [
    {
     "name": "stdout",
     "output_type": "stream",
     "text": [
      "text: \"You are fishing on the following dates:\\n- 3/15/2025\\n- 3/16/2025\\n- 3/17/2025\\n- 3/18/2025\"\n",
      "\n"
     ]
    }
   ],
   "source": [
    "print(submit_question('when am i fishing'))"
   ]
  },
  {
   "cell_type": "code",
   "execution_count": 6,
   "metadata": {},
   "outputs": [
    {
     "name": "stdout",
     "output_type": "stream",
     "text": [
      "text: \"You are hunting on the following dates:\\n- 2/26/2025\\n- 2/27/2025\\n- 2/28/2025\\n- 3/1/2025\"\n",
      "\n"
     ]
    }
   ],
   "source": [
    "print(submit_question('when am i hunting'))"
   ]
  },
  {
   "cell_type": "code",
   "execution_count": 10,
   "metadata": {},
   "outputs": [
    {
     "name": "stdout",
     "output_type": "stream",
     "text": [
      "text: \"Your wife\\'s birthday is on 1/17/2025.\"\n",
      "\n"
     ]
    }
   ],
   "source": [
    "print(submit_question('when should i buy my wife a present'))"
   ]
  },
  {
   "cell_type": "code",
   "execution_count": 11,
   "metadata": {},
   "outputs": [
    {
     "name": "stdout",
     "output_type": "stream",
     "text": [
      "text: \"- Your wife\\'s birthday is on 1/17/2025.\\n- Your anniversary is on 2/13/2025.\\n- Your son\\'s birthday is on 1/30/2025.\"\n",
      "\n"
     ]
    }
   ],
   "source": [
    "print(submit_question('what are notable days'))"
   ]
  },
  {
   "cell_type": "code",
   "execution_count": 12,
   "metadata": {},
   "outputs": [
    {
     "name": "stdout",
     "output_type": "stream",
     "text": [
      "text: \"- You are free to go fishing from 3/15/2025 to 3/18/2025.\\n- You are free to go hunting from 2/26/2025 to 3/1/2025.\\n- You are free to take your dog to the park on 4/7/2025.\"\n",
      "\n"
     ]
    }
   ],
   "source": [
    "print(submit_question('when am i free'))"
   ]
  }
 ],
 "metadata": {
  "kernelspec": {
   "display_name": "Python 3",
   "language": "python",
   "name": "python3"
  },
  "language_info": {
   "codemirror_mode": {
    "name": "ipython",
    "version": 3
   },
   "file_extension": ".py",
   "mimetype": "text/x-python",
   "name": "python",
   "nbconvert_exporter": "python",
   "pygments_lexer": "ipython3",
   "version": "3.10.10"
  }
 },
 "nbformat": 4,
 "nbformat_minor": 2
}
