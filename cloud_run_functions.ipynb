{
 "cells": [
  {
   "cell_type": "code",
   "execution_count": 12,
   "metadata": {},
   "outputs": [],
   "source": [
    "from gcp_fx import PROJECT_ID, Pubs, blob_str\n",
    "import subprocess\n",
    "import time\n",
    "\n",
    "from IPython.core.interactiveshell import InteractiveShell\n",
    "InteractiveShell.ast_node_interactivity = \"all\""
   ]
  },
  {
   "cell_type": "code",
   "execution_count": 3,
   "metadata": {},
   "outputs": [
    {
     "data": {
      "text/plain": [
       "name: \"projects/hca-hvu7470-202411221829-sbx/topics/trigger_cloud_run_function\"\n",
       "message_storage_policy {\n",
       "  allowed_persistence_regions: \"us-central1\"\n",
       "  allowed_persistence_regions: \"us-central2\"\n",
       "  allowed_persistence_regions: \"us-east1\"\n",
       "  allowed_persistence_regions: \"us-east4\"\n",
       "  allowed_persistence_regions: \"us-south1\"\n",
       "}"
      ]
     },
     "execution_count": 3,
     "metadata": {},
     "output_type": "execute_result"
    }
   ],
   "source": [
    "topic='trigger_cloud_run_function'\n",
    "Pubs().create(topic)"
   ]
  },
  {
   "cell_type": "code",
   "execution_count": null,
   "metadata": {},
   "outputs": [
    {
     "data": {
      "text/plain": [
       "CompletedProcess(args=['gcloud', 'functions', 'deploy', 'update_blob', '--gen2', '--runtime=python312', '--source=src_update_blob', '--entry-point=update_bucket', '--trigger-topic=trigger_cloud_run_function', '--region=us-east4'], returncode=0)"
      ]
     },
     "execution_count": 5,
     "metadata": {},
     "output_type": "execute_result"
    }
   ],
   "source": [
    "# create a cloud run function, uploading source code, trigger off above topic\n",
    "cloud_run_function = 'update_blob'\n",
    "cmd = [\n",
    "    'gcloud','functions','deploy',cloud_run_function,'--gen2',\n",
    "    '--runtime=python312','--source=src_update_blob','--entry-point=update_bucket',\n",
    "    f'--trigger-topic={topic}','--region=us-east4'\n",
    "]\n",
    "subprocess.run(cmd,shell=True)\n"
   ]
  },
  {
   "cell_type": "code",
   "execution_count": 8,
   "metadata": {},
   "outputs": [
    {
     "data": {
      "text/plain": [
       "'12-14-24 03:30:47'"
      ]
     },
     "execution_count": 8,
     "metadata": {},
     "output_type": "execute_result"
    }
   ],
   "source": [
    "#look at contents of blob\n",
    "blob_str('test.txt')"
   ]
  },
  {
   "cell_type": "code",
   "execution_count": 13,
   "metadata": {},
   "outputs": [
    {
     "data": {
      "text/plain": [
       "'12-14-24 04:09:13'"
      ]
     },
     "execution_count": 13,
     "metadata": {},
     "output_type": "execute_result"
    }
   ],
   "source": [
    "#trigger the topic\n",
    "Pubs().send(topic,'hello')\n",
    "\n",
    "time.sleep(5)\n",
    "\n",
    "#note the blob contents updated as a result of python src_update_blob.main.py\n",
    "blob_str('test.txt')"
   ]
  }
 ],
 "metadata": {
  "kernelspec": {
   "display_name": "Python 3",
   "language": "python",
   "name": "python3"
  },
  "language_info": {
   "codemirror_mode": {
    "name": "ipython",
    "version": 3
   },
   "file_extension": ".py",
   "mimetype": "text/x-python",
   "name": "python",
   "nbconvert_exporter": "python",
   "pygments_lexer": "ipython3",
   "version": "3.10.10"
  }
 },
 "nbformat": 4,
 "nbformat_minor": 2
}
