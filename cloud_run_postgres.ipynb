{
 "cells": [
  {
   "cell_type": "code",
   "execution_count": null,
   "metadata": {},
   "outputs": [],
   "source": [
    "from IPython.core.interactiveshell import InteractiveShell\n",
    "InteractiveShell.ast_node_interactivity = \"all\"\n",
    "\n",
    "import subprocess\n",
    "import time\n",
    "import psycopg2\n",
    "import gcp_fx\n",
    "import pandas as pd"
   ]
  },
  {
   "cell_type": "markdown",
   "metadata": {},
   "source": [
    "Within console go to Cloud SQL\n",
    "- create postgres instance and admin user \"postgres\" \n",
    "- add app account to Authenticated IAM. Note postgres considers APP_ACCOUNT to be the text left of \".\""
   ]
  },
  {
   "cell_type": "code",
   "execution_count": 109,
   "metadata": {},
   "outputs": [],
   "source": [
    "def exec_sql(sql):\n",
    "    with gcp_fx.connect_as_postgres() as con:\n",
    "        cur=con.cursor()\n",
    "        cur.execute(sql)\n",
    "        cur.close()\n",
    "\n",
    "destination_table = 'pubsub_messages'\n",
    "app_account = gcp_fx.cp['POSTGRES']['app_account']\n",
    "exec_sql(f'grant all privileges on database postgres to \"{app_account}\";')\n",
    "exec_sql(f'drop table if exists {destination_table};')\n",
    "exec_sql(f'create table {destination_table} (eventid varchar(255), received timestamp, msg varchar(255));')\n",
    "exec_sql(f'grant all privileges on all tables in schema public to \"{app_account}\";')"
   ]
  },
  {
   "cell_type": "code",
   "execution_count": 39,
   "metadata": {},
   "outputs": [],
   "source": [
    "topic = 'cloud-run-postgres'  # to trigger cloud run fx\n",
    "def run(cmd=list):\n",
    "    return subprocess.run(cmd,shell=True)"
   ]
  },
  {
   "cell_type": "code",
   "execution_count": null,
   "metadata": {},
   "outputs": [
    {
     "data": {
      "text/plain": [
       "CompletedProcess(args=['gcloud', 'pubsub', 'topics', 'create', 'cloud-run-postgres'], returncode=0)"
      ]
     },
     "execution_count": 40,
     "metadata": {},
     "output_type": "execute_result"
    }
   ],
   "source": [
    "run(['gcloud','pubsub','topics','create',topic])  "
   ]
  },
  {
   "cell_type": "code",
   "execution_count": 80,
   "metadata": {},
   "outputs": [
    {
     "data": {
      "text/plain": [
       "CompletedProcess(args=['gcloud', 'functions', 'deploy', 'cloud-run-postgres', '--trigger-topic=cloud-run-postgres', '--runtime=python311', '--source=cloud_run_postgres_src', '--entry-point=entry_point', '--no-gen2', '--timeout=120s', '--region=us-east4'], returncode=0)"
      ]
     },
     "execution_count": 80,
     "metadata": {},
     "output_type": "execute_result"
    }
   ],
   "source": [
    "# create / update cloud run fx using gen 1 functions\n",
    "fx_name='cloud-run-postgres'\n",
    "fx_region = 'us-east4'\n",
    "source_code_path = 'cloud_run_postgres_src'\n",
    "\n",
    "cmd = ['gcloud','functions','deploy', fx_name, f'--trigger-topic={fx_name}',\n",
    "    '--runtime=python311',f'--source={source_code_path}','--entry-point=entry_point','--no-gen2',\n",
    "    '--timeout=120s',f'--region={fx_region}']\n",
    "# print(' '.join(cmd))\n",
    "run(cmd)\n",
    "\n",
    "#gen 2 would require event arc, setting sql cloud instance on the container, would be a good clould build project"
   ]
  },
  {
   "cell_type": "code",
   "execution_count": 110,
   "metadata": {},
   "outputs": [
    {
     "name": "stdout",
     "output_type": "stream",
     "text": [
      "pubsub_messages has 0 records\n"
     ]
    },
    {
     "data": {
      "text/html": [
       "<div>\n",
       "<style scoped>\n",
       "    .dataframe tbody tr th:only-of-type {\n",
       "        vertical-align: middle;\n",
       "    }\n",
       "\n",
       "    .dataframe tbody tr th {\n",
       "        vertical-align: top;\n",
       "    }\n",
       "\n",
       "    .dataframe thead th {\n",
       "        text-align: right;\n",
       "    }\n",
       "</style>\n",
       "<table border=\"1\" class=\"dataframe\">\n",
       "  <thead>\n",
       "    <tr style=\"text-align: right;\">\n",
       "      <th></th>\n",
       "      <th>eventid</th>\n",
       "      <th>received</th>\n",
       "      <th>msg</th>\n",
       "    </tr>\n",
       "  </thead>\n",
       "  <tbody>\n",
       "  </tbody>\n",
       "</table>\n",
       "</div>"
      ],
      "text/plain": [
       "Empty DataFrame\n",
       "Columns: [eventid, received, msg]\n",
       "Index: []"
      ]
     },
     "execution_count": 110,
     "metadata": {},
     "output_type": "execute_result"
    }
   ],
   "source": [
    "def qry_postgres():    \n",
    "    import warnings\n",
    "    warnings.simplefilter(action='ignore', category=UserWarning)  #sqlalchemy preferred\n",
    "    with gcp_fx.connect_as_postgres() as con:\n",
    "        df = pd.read_sql(f'select * from {destination_table}',con)\n",
    "    print(f'{destination_table} has {df.shape[0]} records')\n",
    "    return df\n",
    "        \n",
    "qry_postgres()"
   ]
  },
  {
   "cell_type": "code",
   "execution_count": 111,
   "metadata": {},
   "outputs": [],
   "source": [
    "gcp_fx.Pubs().send(topic,'initial insert')\n"
   ]
  },
  {
   "cell_type": "code",
   "execution_count": 112,
   "metadata": {},
   "outputs": [
    {
     "name": "stdout",
     "output_type": "stream",
     "text": [
      "pubsub_messages has 1 records\n"
     ]
    },
    {
     "data": {
      "text/html": [
       "<div>\n",
       "<style scoped>\n",
       "    .dataframe tbody tr th:only-of-type {\n",
       "        vertical-align: middle;\n",
       "    }\n",
       "\n",
       "    .dataframe tbody tr th {\n",
       "        vertical-align: top;\n",
       "    }\n",
       "\n",
       "    .dataframe thead th {\n",
       "        text-align: right;\n",
       "    }\n",
       "</style>\n",
       "<table border=\"1\" class=\"dataframe\">\n",
       "  <thead>\n",
       "    <tr style=\"text-align: right;\">\n",
       "      <th></th>\n",
       "      <th>eventid</th>\n",
       "      <th>received</th>\n",
       "      <th>msg</th>\n",
       "    </tr>\n",
       "  </thead>\n",
       "  <tbody>\n",
       "    <tr>\n",
       "      <th>0</th>\n",
       "      <td>13263265980284286</td>\n",
       "      <td>2024-12-17 00:13:11.397636</td>\n",
       "      <td>initial insert</td>\n",
       "    </tr>\n",
       "  </tbody>\n",
       "</table>\n",
       "</div>"
      ],
      "text/plain": [
       "             eventid                   received             msg\n",
       "0  13263265980284286 2024-12-17 00:13:11.397636  initial insert"
      ]
     },
     "execution_count": 112,
     "metadata": {},
     "output_type": "execute_result"
    }
   ],
   "source": [
    "qry_postgres()"
   ]
  },
  {
   "cell_type": "code",
   "execution_count": 113,
   "metadata": {},
   "outputs": [
    {
     "name": "stdout",
     "output_type": "stream",
     "text": [
      "pubsub_messages has 3 records\n"
     ]
    },
    {
     "data": {
      "text/html": [
       "<div>\n",
       "<style scoped>\n",
       "    .dataframe tbody tr th:only-of-type {\n",
       "        vertical-align: middle;\n",
       "    }\n",
       "\n",
       "    .dataframe tbody tr th {\n",
       "        vertical-align: top;\n",
       "    }\n",
       "\n",
       "    .dataframe thead th {\n",
       "        text-align: right;\n",
       "    }\n",
       "</style>\n",
       "<table border=\"1\" class=\"dataframe\">\n",
       "  <thead>\n",
       "    <tr style=\"text-align: right;\">\n",
       "      <th></th>\n",
       "      <th>eventid</th>\n",
       "      <th>received</th>\n",
       "      <th>msg</th>\n",
       "    </tr>\n",
       "  </thead>\n",
       "  <tbody>\n",
       "    <tr>\n",
       "      <th>0</th>\n",
       "      <td>13263265980284286</td>\n",
       "      <td>2024-12-17 00:13:11.397636</td>\n",
       "      <td>initial insert</td>\n",
       "    </tr>\n",
       "    <tr>\n",
       "      <th>1</th>\n",
       "      <td>13263255917841118</td>\n",
       "      <td>2024-12-17 00:14:02.567580</td>\n",
       "      <td>msg 0</td>\n",
       "    </tr>\n",
       "    <tr>\n",
       "      <th>2</th>\n",
       "      <td>13263242181189612</td>\n",
       "      <td>2024-12-17 00:14:03.670921</td>\n",
       "      <td>msg 1</td>\n",
       "    </tr>\n",
       "  </tbody>\n",
       "</table>\n",
       "</div>"
      ],
      "text/plain": [
       "             eventid                   received             msg\n",
       "0  13263265980284286 2024-12-17 00:13:11.397636  initial insert\n",
       "1  13263255917841118 2024-12-17 00:14:02.567580           msg 0\n",
       "2  13263242181189612 2024-12-17 00:14:03.670921           msg 1"
      ]
     },
     "execution_count": 113,
     "metadata": {},
     "output_type": "execute_result"
    }
   ],
   "source": [
    "for i in range(3):\n",
    "    gcp_fx.Pubs().send(topic,f'msg {i}')\n",
    "\n",
    "qry_postgres()"
   ]
  },
  {
   "cell_type": "code",
   "execution_count": 114,
   "metadata": {},
   "outputs": [
    {
     "name": "stdout",
     "output_type": "stream",
     "text": [
      "pubsub_messages has 4 records\n"
     ]
    },
    {
     "data": {
      "text/html": [
       "<div>\n",
       "<style scoped>\n",
       "    .dataframe tbody tr th:only-of-type {\n",
       "        vertical-align: middle;\n",
       "    }\n",
       "\n",
       "    .dataframe tbody tr th {\n",
       "        vertical-align: top;\n",
       "    }\n",
       "\n",
       "    .dataframe thead th {\n",
       "        text-align: right;\n",
       "    }\n",
       "</style>\n",
       "<table border=\"1\" class=\"dataframe\">\n",
       "  <thead>\n",
       "    <tr style=\"text-align: right;\">\n",
       "      <th></th>\n",
       "      <th>eventid</th>\n",
       "      <th>received</th>\n",
       "      <th>msg</th>\n",
       "    </tr>\n",
       "  </thead>\n",
       "  <tbody>\n",
       "    <tr>\n",
       "      <th>0</th>\n",
       "      <td>13263265980284286</td>\n",
       "      <td>2024-12-17 00:13:11.397636</td>\n",
       "      <td>initial insert</td>\n",
       "    </tr>\n",
       "    <tr>\n",
       "      <th>1</th>\n",
       "      <td>13263255917841118</td>\n",
       "      <td>2024-12-17 00:14:02.567580</td>\n",
       "      <td>msg 0</td>\n",
       "    </tr>\n",
       "    <tr>\n",
       "      <th>2</th>\n",
       "      <td>13263242181189612</td>\n",
       "      <td>2024-12-17 00:14:03.670921</td>\n",
       "      <td>msg 1</td>\n",
       "    </tr>\n",
       "    <tr>\n",
       "      <th>3</th>\n",
       "      <td>13263266462962500</td>\n",
       "      <td>2024-12-17 00:14:04.873005</td>\n",
       "      <td>msg 2</td>\n",
       "    </tr>\n",
       "  </tbody>\n",
       "</table>\n",
       "</div>"
      ],
      "text/plain": [
       "             eventid                   received             msg\n",
       "0  13263265980284286 2024-12-17 00:13:11.397636  initial insert\n",
       "1  13263255917841118 2024-12-17 00:14:02.567580           msg 0\n",
       "2  13263242181189612 2024-12-17 00:14:03.670921           msg 1\n",
       "3  13263266462962500 2024-12-17 00:14:04.873005           msg 2"
      ]
     },
     "execution_count": 114,
     "metadata": {},
     "output_type": "execute_result"
    }
   ],
   "source": [
    "# a bit of delay, could time.sleep\n",
    "qry_postgres()"
   ]
  }
 ],
 "metadata": {
  "kernelspec": {
   "display_name": "Python 3",
   "language": "python",
   "name": "python3"
  },
  "language_info": {
   "codemirror_mode": {
    "name": "ipython",
    "version": 3
   },
   "file_extension": ".py",
   "mimetype": "text/x-python",
   "name": "python",
   "nbconvert_exporter": "python",
   "pygments_lexer": "ipython3",
   "version": "3.10.10"
  }
 },
 "nbformat": 4,
 "nbformat_minor": 2
}
