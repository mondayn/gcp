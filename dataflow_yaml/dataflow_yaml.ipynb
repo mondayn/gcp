{
 "cells": [
  {
   "cell_type": "code",
   "execution_count": null,
   "id": "a848c7c6",
   "metadata": {},
   "outputs": [
    {
     "data": {
      "text/html": [
       "<img src=\"https://mermaid.ink/img/CmdyYXBoIExSICAgIAogICAgYSgocGFuZGFzKSktLT4KICAgIGJAeyBzaGFwZTogZG9jLCBsYWJlbDogInJhbmRvbS5jc3YiIH0tLURhdGFGbG93LS0+CiAgICBjWyhCaWdRdWVyeSldLS0+CiAgICBkW2ZhOmZhLXVzZXIgdGhpcyBub3RlYm9va10K\"/>"
      ],
      "text/plain": [
       "<IPython.core.display.Image object>"
      ]
     },
     "metadata": {},
     "output_type": "display_data"
    }
   ],
   "source": [
    "# setup gcp using terraform\n"
   ]
  },
  {
   "cell_type": "code",
   "execution_count": null,
   "id": "f566408a",
   "metadata": {},
   "outputs": [],
   "source": [
    "# overview\n",
    "from mermaid import mm\n",
    "mm('''\n",
    "graph LR    \n",
    "    a((pandas))-->\n",
    "    b@{ shape: doc, label: \"random.csv\" }--DataFlow-->\n",
    "    c[(BigQuery)]-->\n",
    "    d[fa:fa-user this notebook]\n",
    "''')"
   ]
  },
  {
   "cell_type": "code",
   "execution_count": 9,
   "id": "9a6b839e",
   "metadata": {},
   "outputs": [],
   "source": [
    "# generate random.csv\n",
    "\n",
    "import pandas as pd\n",
    "import numpy as np\n",
    "import datetime\n",
    "\n",
    "num_records = 1000\n",
    "dim_values =['a','b','c','d']\n",
    "columns = ['amt','msr']\n",
    "\n",
    "assert num_records % len(dim_values) == 0\n",
    "\n",
    "(\n",
    "    pd.DataFrame(np.random.randint(0,100,size=(num_records, len(columns))),columns=columns)\n",
    "    .assign(dim=int(num_records/len(dim_values)) * dim_values)\n",
    "    # .assign(asof=datetime.datetime.now())\n",
    "    .to_csv('random.csv',index=False)\n",
    ")\n"
   ]
  }
 ],
 "metadata": {
  "kernelspec": {
   "display_name": "Python 3",
   "language": "python",
   "name": "python3"
  },
  "language_info": {
   "codemirror_mode": {
    "name": "ipython",
    "version": 3
   },
   "file_extension": ".py",
   "mimetype": "text/x-python",
   "name": "python",
   "nbconvert_exporter": "python",
   "pygments_lexer": "ipython3",
   "version": "3.10.10"
  }
 },
 "nbformat": 4,
 "nbformat_minor": 5
}
