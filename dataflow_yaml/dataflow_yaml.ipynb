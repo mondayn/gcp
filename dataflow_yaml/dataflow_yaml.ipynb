{
 "cells": [
  {
   "cell_type": "code",
   "execution_count": 16,
   "id": "9a6b839e",
   "metadata": {},
   "outputs": [],
   "source": [
    "# generate random.csv\n",
    "\n",
    "import pandas as pd\n",
    "import numpy as np\n",
    "import datetime\n",
    "\n",
    "num_records = 1000\n",
    "dim_values =['a','b','c','d']\n",
    "\n",
    "assert num_records % len(dim_values) == 0\n",
    "\n",
    "(\n",
    "    pd.DataFrame(np.random.randint(0,100,size=(num_records, len(column_names))),columns=column_names)\n",
    "    .assign(dim=int(num_records/len(dim_values)) * dim_values)\n",
    "    # .assign(asof=datetime.datetime.now())\n",
    "    .to_csv('random.csv',index=False)\n",
    ")\n"
   ]
  },
  {
   "cell_type": "markdown",
   "id": "a77963fc",
   "metadata": {},
   "source": [
    "```mermaid\n",
    "graph LR\n",
    "    B((Start))-->\n",
    "    b@{shape: in-out}-->\n",
    "    D{Decision}--Yes-->\n",
    "    id1[(Database)]-->\n",
    "    a@{ shape: doc, label: \"Report\" }-->\n",
    "    z[fa:fa-user End]\n",
    "D--\"No\"-->B\n",
    "```"
   ]
  }
 ],
 "metadata": {
  "kernelspec": {
   "display_name": "Python 3",
   "language": "python",
   "name": "python3"
  },
  "language_info": {
   "codemirror_mode": {
    "name": "ipython",
    "version": 3
   },
   "file_extension": ".py",
   "mimetype": "text/x-python",
   "name": "python",
   "nbconvert_exporter": "python",
   "pygments_lexer": "ipython3",
   "version": "3.10.10"
  }
 },
 "nbformat": 4,
 "nbformat_minor": 5
}
