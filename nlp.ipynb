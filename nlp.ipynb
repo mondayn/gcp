{
 "cells": [
  {
   "cell_type": "code",
   "execution_count": 1,
   "metadata": {},
   "outputs": [],
   "source": [
    "from gcp_fx import PROJECT_ID, pd, query_bq\n",
    "import spacy\n",
    "\n",
    "from IPython.core.interactiveshell import InteractiveShell\n",
    "InteractiveShell.ast_node_interactivity = \"all\""
   ]
  },
  {
   "cell_type": "code",
   "execution_count": 8,
   "metadata": {},
   "outputs": [
    {
     "name": "stdout",
     "output_type": "stream",
     "text": [
      "shape = (1, 3)\n",
      "columns =  ['f0_', 'f1_', 'records']\n"
     ]
    },
    {
     "data": {
      "text/html": [
       "<div>\n",
       "<style scoped>\n",
       "    .dataframe tbody tr th:only-of-type {\n",
       "        vertical-align: middle;\n",
       "    }\n",
       "\n",
       "    .dataframe tbody tr th {\n",
       "        vertical-align: top;\n",
       "    }\n",
       "\n",
       "    .dataframe thead th {\n",
       "        text-align: right;\n",
       "    }\n",
       "</style>\n",
       "<table border=\"1\" class=\"dataframe\">\n",
       "  <thead>\n",
       "    <tr style=\"text-align: right;\">\n",
       "      <th></th>\n",
       "      <th>f0_</th>\n",
       "      <th>f1_</th>\n",
       "      <th>records</th>\n",
       "    </tr>\n",
       "  </thead>\n",
       "  <tbody>\n",
       "    <tr>\n",
       "      <th>0</th>\n",
       "      <td>2024-10-31</td>\n",
       "      <td>2024-12-01</td>\n",
       "      <td>43989750</td>\n",
       "    </tr>\n",
       "  </tbody>\n",
       "</table>\n",
       "</div>"
      ],
      "text/plain": [
       "          f0_         f1_   records\n",
       "0  2024-10-31  2024-12-01  43989750"
      ]
     },
     "execution_count": 8,
     "metadata": {},
     "output_type": "execute_result"
    }
   ],
   "source": [
    "query_bq('''select min(refresh_date),max(refresh_date), count(*) records FROM `bigquery-public-data.google_trends.top_terms`''')"
   ]
  },
  {
   "cell_type": "code",
   "execution_count": 2,
   "metadata": {},
   "outputs": [],
   "source": [
    "NER = spacy.load(\"en_core_web_sm\")\n",
    "def get_entity(s):\n",
    "    ''' for a string return an entity type\n",
    "\n",
    "        PERSON: Refers to individuals, including fictional and real people.\n",
    "        NORP: Represents nationalities, religious or political groups.\n",
    "        FAC: Denotes buildings, airports, highways, bridges, etc.\n",
    "        ORG: Refers to organizations such as companies, institutions, agencies, etc.\n",
    "        GPE: Represents countries, cities, states, and other geopolitical entities.\n",
    "        LOC: Denotes non-GPE locations such as mountains, bodies of water, etc.\n",
    "        PRODUCT: Represents objects, vehicles, food items, etc.\n",
    "        EVENT: Denotes named events like hurricanes, battles, wars, etc.\n",
    "        WORK_OF_ART: Represents books, paintings, songs, etc.\n",
    "        LAW: Denotes named laws and regulations.\n",
    "        LANGUAGE: Represents named languages.\n",
    "        DATE: Represents dates in various formats.\n",
    "        TIME: Denotes times in various formats.\n",
    "        PERCENT: Represents percentage values.\n",
    "        MONEY: Denotes monetary values.\n",
    "        QUANTITY: Represents measurements, quantities, or counts.\n",
    "        ORDINAL: Denotes first, second, third, etc.\n",
    "        CARDINAL: Represents numerical values, counting numbers.\n",
    "    '''\n",
    "    if NER(s).ents:\n",
    "        return NER(s).ents[0].label_\n",
    "    else:\n",
    "        return ''"
   ]
  },
  {
   "cell_type": "code",
   "execution_count": 8,
   "metadata": {},
   "outputs": [
    {
     "data": {
      "text/plain": [
       "'PERSON'"
      ]
     },
     "execution_count": 8,
     "metadata": {},
     "output_type": "execute_result"
    },
    {
     "data": {
      "text/plain": [
       "'GPE'"
      ]
     },
     "execution_count": 8,
     "metadata": {},
     "output_type": "execute_result"
    }
   ],
   "source": [
    "get_entity('John Doe')\n",
    "get_entity('New York')"
   ]
  },
  {
   "cell_type": "code",
   "execution_count": 10,
   "metadata": {},
   "outputs": [
    {
     "name": "stdout",
     "output_type": "stream",
     "text": [
      "shape = (160, 3)\n",
      "columns =  ['refresh_date', 'term', 'search_rank']\n"
     ]
    },
    {
     "data": {
      "text/html": [
       "<div>\n",
       "<style scoped>\n",
       "    .dataframe tbody tr th:only-of-type {\n",
       "        vertical-align: middle;\n",
       "    }\n",
       "\n",
       "    .dataframe tbody tr th {\n",
       "        vertical-align: top;\n",
       "    }\n",
       "\n",
       "    .dataframe thead th {\n",
       "        text-align: right;\n",
       "    }\n",
       "</style>\n",
       "<table border=\"1\" class=\"dataframe\">\n",
       "  <thead>\n",
       "    <tr style=\"text-align: right;\">\n",
       "      <th></th>\n",
       "      <th>refresh_date</th>\n",
       "      <th>term</th>\n",
       "      <th>search_rank</th>\n",
       "      <th>ent</th>\n",
       "    </tr>\n",
       "  </thead>\n",
       "  <tbody>\n",
       "    <tr>\n",
       "      <th>0</th>\n",
       "      <td>2024-12-01</td>\n",
       "      <td>Michigan vs Ohio State</td>\n",
       "      <td>1</td>\n",
       "      <td>GPE</td>\n",
       "    </tr>\n",
       "    <tr>\n",
       "      <th>1</th>\n",
       "      <td>2024-12-01</td>\n",
       "      <td>Kash Patel</td>\n",
       "      <td>2</td>\n",
       "      <td>PERSON</td>\n",
       "    </tr>\n",
       "    <tr>\n",
       "      <th>2</th>\n",
       "      <td>2024-12-01</td>\n",
       "      <td>South Carolina football</td>\n",
       "      <td>3</td>\n",
       "      <td>GPE</td>\n",
       "    </tr>\n",
       "    <tr>\n",
       "      <th>3</th>\n",
       "      <td>2024-12-01</td>\n",
       "      <td>Miami Football</td>\n",
       "      <td>4</td>\n",
       "      <td>GPE</td>\n",
       "    </tr>\n",
       "    <tr>\n",
       "      <th>4</th>\n",
       "      <td>2024-12-01</td>\n",
       "      <td>Buffalo Bills</td>\n",
       "      <td>5</td>\n",
       "      <td></td>\n",
       "    </tr>\n",
       "    <tr>\n",
       "      <th>5</th>\n",
       "      <td>2024-11-30</td>\n",
       "      <td>Georgia football</td>\n",
       "      <td>1</td>\n",
       "      <td>GPE</td>\n",
       "    </tr>\n",
       "    <tr>\n",
       "      <th>6</th>\n",
       "      <td>2024-11-30</td>\n",
       "      <td>Josh Allen</td>\n",
       "      <td>2</td>\n",
       "      <td>PERSON</td>\n",
       "    </tr>\n",
       "    <tr>\n",
       "      <th>7</th>\n",
       "      <td>2024-11-30</td>\n",
       "      <td>Colorado football</td>\n",
       "      <td>3</td>\n",
       "      <td>GPE</td>\n",
       "    </tr>\n",
       "    <tr>\n",
       "      <th>8</th>\n",
       "      <td>2024-11-30</td>\n",
       "      <td>College Football</td>\n",
       "      <td>4</td>\n",
       "      <td></td>\n",
       "    </tr>\n",
       "    <tr>\n",
       "      <th>9</th>\n",
       "      <td>2024-11-30</td>\n",
       "      <td>Clemson football</td>\n",
       "      <td>5</td>\n",
       "      <td></td>\n",
       "    </tr>\n",
       "  </tbody>\n",
       "</table>\n",
       "</div>"
      ],
      "text/plain": [
       "  refresh_date                     term  search_rank     ent\n",
       "0   2024-12-01   Michigan vs Ohio State            1     GPE\n",
       "1   2024-12-01               Kash Patel            2  PERSON\n",
       "2   2024-12-01  South Carolina football            3     GPE\n",
       "3   2024-12-01           Miami Football            4     GPE\n",
       "4   2024-12-01            Buffalo Bills            5        \n",
       "5   2024-11-30         Georgia football            1     GPE\n",
       "6   2024-11-30               Josh Allen            2  PERSON\n",
       "7   2024-11-30        Colorado football            3     GPE\n",
       "8   2024-11-30         College Football            4        \n",
       "9   2024-11-30         Clemson football            5        "
      ]
     },
     "execution_count": 10,
     "metadata": {},
     "output_type": "execute_result"
    }
   ],
   "source": [
    "sql = ''' select refresh_date, term, rank as search_rank\n",
    "FROM `bigquery-public-data.google_trends.top_terms`\n",
    "WHERE rank<=5\n",
    "group by 1,2,3\n",
    "order by 1 desc, 3\n",
    "'''\n",
    "\n",
    "df = query_bq(sql).assign(ent=lambda x: [get_entity(s) for s in x.term])\n",
    "df.head(10)\n"
   ]
  },
  {
   "cell_type": "code",
   "execution_count": 11,
   "metadata": {},
   "outputs": [
    {
     "data": {
      "text/html": [
       "<div>\n",
       "<style scoped>\n",
       "    .dataframe tbody tr th:only-of-type {\n",
       "        vertical-align: middle;\n",
       "    }\n",
       "\n",
       "    .dataframe tbody tr th {\n",
       "        vertical-align: top;\n",
       "    }\n",
       "\n",
       "    .dataframe thead th {\n",
       "        text-align: right;\n",
       "    }\n",
       "</style>\n",
       "<table border=\"1\" class=\"dataframe\">\n",
       "  <thead>\n",
       "    <tr style=\"text-align: right;\">\n",
       "      <th></th>\n",
       "      <th>refresh_date</th>\n",
       "      <th>term</th>\n",
       "      <th>search_rank</th>\n",
       "      <th>ent</th>\n",
       "      <th>ttl</th>\n",
       "    </tr>\n",
       "  </thead>\n",
       "  <tbody>\n",
       "    <tr>\n",
       "      <th>80</th>\n",
       "      <td>2024-11-15</td>\n",
       "      <td>Eagles</td>\n",
       "      <td>1</td>\n",
       "      <td></td>\n",
       "      <td>47</td>\n",
       "    </tr>\n",
       "    <tr>\n",
       "      <th>67</th>\n",
       "      <td>2024-11-18</td>\n",
       "      <td>Bills</td>\n",
       "      <td>3</td>\n",
       "      <td></td>\n",
       "      <td>47</td>\n",
       "    </tr>\n",
       "    <tr>\n",
       "      <th>36</th>\n",
       "      <td>2024-11-24</td>\n",
       "      <td>Auburn football</td>\n",
       "      <td>2</td>\n",
       "      <td></td>\n",
       "      <td>47</td>\n",
       "    </tr>\n",
       "    <tr>\n",
       "      <th>136</th>\n",
       "      <td>2024-11-04</td>\n",
       "      <td>Where to vote</td>\n",
       "      <td>2</td>\n",
       "      <td></td>\n",
       "      <td>47</td>\n",
       "    </tr>\n",
       "    <tr>\n",
       "      <th>38</th>\n",
       "      <td>2024-11-24</td>\n",
       "      <td>Ole Miss football</td>\n",
       "      <td>4</td>\n",
       "      <td></td>\n",
       "      <td>47</td>\n",
       "    </tr>\n",
       "    <tr>\n",
       "      <th>...</th>\n",
       "      <td>...</td>\n",
       "      <td>...</td>\n",
       "      <td>...</td>\n",
       "      <td>...</td>\n",
       "      <td>...</td>\n",
       "    </tr>\n",
       "    <tr>\n",
       "      <th>115</th>\n",
       "      <td>2024-11-08</td>\n",
       "      <td>Bengals vs Ravens</td>\n",
       "      <td>1</td>\n",
       "      <td>PRODUCT</td>\n",
       "      <td>1</td>\n",
       "    </tr>\n",
       "    <tr>\n",
       "      <th>68</th>\n",
       "      <td>2024-11-18</td>\n",
       "      <td>Seahawks vs 49ers</td>\n",
       "      <td>4</td>\n",
       "      <td>CARDINAL</td>\n",
       "      <td>1</td>\n",
       "    </tr>\n",
       "    <tr>\n",
       "      <th>156</th>\n",
       "      <td>2024-10-31</td>\n",
       "      <td>World Series Game 5</td>\n",
       "      <td>2</td>\n",
       "      <td>EVENT</td>\n",
       "      <td>1</td>\n",
       "    </tr>\n",
       "    <tr>\n",
       "      <th>111</th>\n",
       "      <td>2024-11-09</td>\n",
       "      <td>Grammy nominations 2025</td>\n",
       "      <td>2</td>\n",
       "      <td>WORK_OF_ART</td>\n",
       "      <td>1</td>\n",
       "    </tr>\n",
       "    <tr>\n",
       "      <th>108</th>\n",
       "      <td>2024-11-10</td>\n",
       "      <td>Notre Dame football</td>\n",
       "      <td>4</td>\n",
       "      <td>FAC</td>\n",
       "      <td>1</td>\n",
       "    </tr>\n",
       "  </tbody>\n",
       "</table>\n",
       "<p>160 rows × 5 columns</p>\n",
       "</div>"
      ],
      "text/plain": [
       "    refresh_date                     term  search_rank          ent  ttl\n",
       "80    2024-11-15                   Eagles            1                47\n",
       "67    2024-11-18                    Bills            3                47\n",
       "36    2024-11-24          Auburn football            2                47\n",
       "136   2024-11-04            Where to vote            2                47\n",
       "38    2024-11-24        Ole Miss football            4                47\n",
       "..           ...                      ...          ...          ...  ...\n",
       "115   2024-11-08        Bengals vs Ravens            1      PRODUCT    1\n",
       "68    2024-11-18        Seahawks vs 49ers            4     CARDINAL    1\n",
       "156   2024-10-31      World Series Game 5            2        EVENT    1\n",
       "111   2024-11-09  Grammy nominations 2025            2  WORK_OF_ART    1\n",
       "108   2024-11-10      Notre Dame football            4          FAC    1\n",
       "\n",
       "[160 rows x 5 columns]"
      ]
     },
     "execution_count": 11,
     "metadata": {},
     "output_type": "execute_result"
    }
   ],
   "source": [
    "def add_ttl(_df):\n",
    "    return (\n",
    "        df\n",
    "        .assign(ttl=lambda x: x.groupby('ent').transform('size'))\n",
    "        .sort_values('ttl',ascending=False)\n",
    "    )\n",
    "df.pipe(add_ttl)  \n",
    "# perhaps a newer downlaod of the web corpus would have less blanks. or maybe the larger model"
   ]
  },
  {
   "cell_type": "code",
   "execution_count": 12,
   "metadata": {},
   "outputs": [
    {
     "name": "stdout",
     "output_type": "stream",
     "text": [
      "               47\n",
      "PERSON         45\n",
      "GPE            26\n",
      "ORG            26\n",
      "DATE            8\n",
      "NORP            3\n",
      "CARDINAL        1\n",
      "FAC             1\n",
      "WORK_OF_ART     1\n",
      "PRODUCT         1\n",
      "EVENT           1\n",
      "Name: ent, dtype: int64\n"
     ]
    },
    {
     "data": {
      "text/plain": [
       "<Axes: >"
      ]
     },
     "execution_count": 12,
     "metadata": {},
     "output_type": "execute_result"
    },
    {
     "data": {
      "image/png": "[encoded data removed]",
      "text/plain": [
       "<Figure size 640x480 with 1 Axes>"
      ]
     },
     "metadata": {},
     "output_type": "display_data"
    }
   ],
   "source": [
    "print(df.ent.value_counts())\n",
    "df.pipe(add_ttl).ent.hist()"
   ]
  },
  {
   "cell_type": "markdown",
   "metadata": {},
   "source": [
    "#### conclusion: \n",
    "we tend to google people, then places, then orgs."
   ]
  }
 ],
 "metadata": {
  "language_info": {
   "name": "python"
  }
 },
 "nbformat": 4,
 "nbformat_minor": 2
}
